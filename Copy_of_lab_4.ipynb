{
  "nbformat": 4,
  "nbformat_minor": 0,
  "metadata": {
    "colab": {
      "name": "Copy of lab 4",
      "provenance": []
    },
    "kernelspec": {
      "name": "python3",
      "display_name": "Python 3"
    }
  },
  "cells": [
    {
      "cell_type": "code",
      "metadata": {
        "id": "YNDedk4SXwUY",
        "colab_type": "code",
        "colab": {}
      },
      "source": [
        "#this SQL code is used to create five tables, which are FoodOrder, Food, User, PaymentHistory, and Deliverty \n",
        "#we insert five data pieces into each attribute and use the data to solve some questions that interest us\n",
        "#Group 19 Group Assignment \n",
        "\n",
        "import sqlite3\n",
        "connectionToDatabase = sqlite3.connect('FoodDelivery') \n",
        "cursor = connectionToDatabase.cursor()\n",
        "cursor.execute('''drop table IF EXISTS FoodOrder''')\n",
        "connectionToDatabase.commit()\n",
        "\n",
        "\n",
        "cursor.execute('''create table FoodOrder (orderID text PRIMARY KEY, foodID, userID)''')\n",
        "connectionToDatabase.commit()\n",
        "\n",
        "cursor = connectionToDatabase.cursor()\n",
        "cursor.execute('''drop table IF EXISTS Food''')\n",
        "connectionToDatabase.commit()\n",
        "\n",
        "cursor.execute('''create table Food (foodID text PRIMARY KEY, Appetizers, FoodPrice, FoodRecommendation, Entree, Dessert, Drink)''')\n",
        "connectionToDatabase.commit()\n",
        "\n",
        "cursor.execute('''drop table IF EXISTS User''')\n",
        "connectionToDatabase.commit()\n",
        "\n",
        "cursor.execute('''create table User (userID text PRIMARY KEY, FirstName, LastName, userPhoneNum, HouseNumber, historyID, Street)''')\n",
        "connectionToDatabase.commit()\n",
        "\n",
        "cursor.execute('''drop table IF EXISTS PaymentHistory''')\n",
        "connectionToDatabase.commit()\n",
        "\n",
        "cursor.execute('''create table PaymentHistory (historyID text PRIMARY KEY, userID, orderID, serviceRanking, PaymentMethod, TipAmount)''')\n",
        "connectionToDatabase.commit()\n",
        "\n",
        "cursor.execute('''drop table IF EXISTS Delivery''')\n",
        "connectionToDatabase.commit()\n",
        "\n",
        "cursor.execute('''create table Delivery (deliveryID text PRIMARY KEY, EmployeeFirstName, EmployeeLastName, EmployeePhoneNum, TimelineTrack, userID)''')\n",
        "connectionToDatabase.commit()"
      ],
      "execution_count": 0,
      "outputs": []
    },
    {
      "cell_type": "code",
      "metadata": {
        "id": "55VZWeb_atNg",
        "colab_type": "code",
        "colab": {}
      },
      "source": [
        "\n",
        "cursor.execute('''insert into FoodOrder values ('01', '45', 'F-12');''')\n",
        "connectionToDatabase.commit()\n",
        "cursor.execute('''insert into FoodOrder values ('02', '67', 'M-45');''')\n",
        "connectionToDatabase.commit()\n",
        "cursor.execute('''insert into FoodOrder values ('03', '78', 'F-3');''')\n",
        "connectionToDatabase.commit()\n",
        "cursor.execute('''insert into FoodOrder values ('04', '23', 'M-6');''')\n",
        "connectionToDatabase.commit()\n",
        "cursor.execute('''insert into FoodOrder values ('05', '86', 'F-23');''')\n",
        "connectionToDatabase.commit()\n",
        "\n",
        "\n",
        "cursor.execute('''insert into Food values ('45', '03', '8.5','chicken','A','N','juice');''')\n",
        "connectionToDatabase.commit()\n",
        "cursor.execute('''insert into Food values ('67', '01', '12.5','beef','D','N','cola');''')\n",
        "connectionToDatabase.commit()\n",
        "cursor.execute('''insert into Food values ('78', '04', '9.0','fish','C','Y','cola');''')\n",
        "connectionToDatabase.commit()\n",
        "cursor.execute('''insert into Food values ('23', '02', '13.5','chicken','B','N','cola');''')\n",
        "connectionToDatabase.commit()\n",
        "cursor.execute('''insert into Food values ('86', '03', '10.9','beef','A','Y','juice');''')\n",
        "connectionToDatabase.commit()\n",
        "\n",
        "\n",
        "cursor.execute('''insert into User values ('F-12', 'Susan', 'Taylor','8456789876','1242','12','vairo');''')\n",
        "connectionToDatabase.commit()\n",
        "cursor.execute('''insert into User values ('M-45', 'Paul', 'William','2435456556','1234','45','toftree');''')\n",
        "connectionToDatabase.commit()\n",
        "cursor.execute('''insert into User values ('F-3', 'Adele', 'Park','3354532456','1424','03','vairo');''')\n",
        "connectionToDatabase.commit()\n",
        "cursor.execute('''insert into User values ('M-6', 'Ken', 'Jarek','2344324423','0705','06','vairo');''')\n",
        "connectionToDatabase.commit()\n",
        "cursor.execute('''insert into User values ('F-23', 'Diana', 'Wang','7685738473','0934','23','atherton');''')\n",
        "connectionToDatabase.commit()\n",
        "\n",
        "\n",
        "cursor.execute('''insert into PaymentHistory values ('12', 'F-12', '01','3.8','debit','3.0');''')\n",
        "connectionToDatabase.commit()\n",
        "cursor.execute('''insert into PaymentHistory values ('45', 'M-45', '02','4.5','debit','2.0');''')\n",
        "connectionToDatabase.commit()\n",
        "cursor.execute('''insert into PaymentHistory values ('3', 'F-3', '03','5.0','credit','2.6');''')\n",
        "connectionToDatabase.commit()\n",
        "cursor.execute('''insert into PaymentHistory values ('6', 'M-6', '04','3.7','debit','3.0');''')\n",
        "connectionToDatabase.commit()\n",
        "cursor.execute('''insert into PaymentHistory values ('23', 'F-23', '05','4.8','credit','2.5');''')\n",
        "connectionToDatabase.commit()\n",
        "\n",
        "\n",
        "cursor.execute('''insert into Delivery values ('T-12', 'Ivy', 'William','23432','45','F-12');''')\n",
        "connectionToDatabase.commit()\n",
        "cursor.execute('''insert into Delivery values ('T-45', 'Ben', 'Park','32432','46','M-45');''')\n",
        "connectionToDatabase.commit()\n",
        "cursor.execute('''insert into Delivery values ('T-3', 'Ben', 'Park','32432','60','F-3');''')\n",
        "connectionToDatabase.commit()\n",
        "cursor.execute('''insert into Delivery values ('T-6', 'Ivy', 'William','23432','75','M-6');''')\n",
        "connectionToDatabase.commit()\n",
        "cursor.execute('''insert into Delivery values ('T-23', 'Ivy', 'William','23432','35','F-23');''')\n",
        "connectionToDatabase.commit()\n"
      ],
      "execution_count": 0,
      "outputs": []
    },
    {
      "cell_type": "code",
      "metadata": {
        "id": "aEUdYHDPFQ67",
        "colab_type": "code",
        "outputId": "52a61c9b-04a0-4569-e774-988b0d3c325e",
        "colab": {
          "base_uri": "https://localhost:8080/",
          "height": 34
        }
      },
      "source": [
        "#This question is important because it enables the company to be able to accurately assess customers experience with their service \n",
        "#whether its good or bad. This information can help the company significantly in terms of customer satisfaction \n",
        "#because it allows them to be able to pinpoint problems and fix them to increase good customer reviews \n",
        "#the result meets our expectation because the data we insert to this attribute is 3.8, 4.5, 5.0, 3.7, 4.8\n",
        "#if we just calculate the mean of the five numbers, we can get the same answer--4.36   \n",
        "\n",
        "# Question: what is the average service ranking?\n",
        "cursor.execute('''select AVG(serviceRanking) from PaymentHistory''')\n",
        "for row in cursor.fetchall():\n",
        "  print (row)"
      ],
      "execution_count": 0,
      "outputs": [
        {
          "output_type": "stream",
          "text": [
            "(4.36,)\n"
          ],
          "name": "stdout"
        }
      ]
    },
    {
      "cell_type": "code",
      "metadata": {
        "id": "TfQe9vnYqzq8",
        "colab_type": "code",
        "outputId": "dbd02b11-3f93-433c-8b14-b16ac31a30b5",
        "colab": {
          "base_uri": "https://localhost:8080/",
          "height": 34
        }
      },
      "source": [
        "#Part of having a successful food delivery service is dependant on the quickness of the delivery process. \n",
        "#This question is an important one to know the answer to because being able to lower delivery time will increase productivity. \n",
        "#This will also help to increase customer satisfaction which will increase profits. \n",
        "#the result meets our expectation because the data we insert to this attribute is 45, 46, 60, 75, 35\n",
        "#the minimum is 35; the maximum is 75\n",
        "\n",
        "# Question: what is the range of the delivering time?\n",
        "cursor.execute('''select MIN(TimelineTrack), MAX(TimelineTrack) from Delivery''')\n",
        "for row in cursor.fetchall():\n",
        "  print (row)"
      ],
      "execution_count": 0,
      "outputs": [
        {
          "output_type": "stream",
          "text": [
            "('35', '75')\n"
          ],
          "name": "stdout"
        }
      ]
    },
    {
      "cell_type": "code",
      "metadata": {
        "id": "dJWr53jNrcP3",
        "colab_type": "code",
        "outputId": "f07e9d43-9496-4f16-8abf-85d8e2e756da",
        "colab": {
          "base_uri": "https://localhost:8080/",
          "height": 34
        }
      },
      "source": [
        "#Knowing the average amount that customers are tipping is in direct correlation with their experience in regards to the food delivery service. \n",
        "#When a customer tips they are showing their gratitude for the service. \n",
        "#If the average is high then the company knows they are doing a good job and vice versa. \n",
        "#the result meets our expectation because the data we insert ot this attribute is 3.0, 2.0, 2.6, 3.0, 2.5\n",
        "#the mean of the data is 2.62, which is consistent with the result provided here\n",
        "\n",
        "#Question: what is the average of the tip amount paid by the customers?\n",
        "cursor.execute('''select AVG(TipAmount) from PaymentHistory''')\n",
        "for row in cursor.fetchall():\n",
        "  print (row)"
      ],
      "execution_count": 0,
      "outputs": [
        {
          "output_type": "stream",
          "text": [
            "(2.62,)\n"
          ],
          "name": "stdout"
        }
      ]
    }
  ]
}